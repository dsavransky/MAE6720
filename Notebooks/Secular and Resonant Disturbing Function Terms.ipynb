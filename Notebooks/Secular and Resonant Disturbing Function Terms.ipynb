{
 "cells": [
  {
   "cell_type": "code",
   "execution_count": 1,
   "metadata": {},
   "outputs": [],
   "source": [
    "from miscpy.utils.sympyhelpers import *\n",
    "init_printing()"
   ]
  },
  {
   "cell_type": "code",
   "execution_count": 2,
   "metadata": {},
   "outputs": [],
   "source": [
    "C0,C1,C2,C3,C4,C5,e2,e3,vpi2,vpi3,a2,a3,mu2,mu3,n2,m1,m2,m3,I2,I3,l2,l3 = \\\n",
    "symbols('C_0,C_1,C_2,C_3,C_4,C_5,e_2,e_3,varpi_2,varpi_3,a_2,a_3,mu_2,mu_3,\\\n",
    "         n_2,m_1,m_2,m_3,I_2,I_3,lambda_2,lambda_3',real=True)\n",
    "s,j,x = symbols('s,j,x',real=True)"
   ]
  },
  {
   "cell_type": "markdown",
   "metadata": {},
   "source": [
    "Secular Terms"
   ]
  },
  {
   "cell_type": "code",
   "execution_count": 3,
   "metadata": {},
   "outputs": [
    {
     "data": {
      "image/png": "[encoded data removed]",
      "text/latex": [
       "$\\displaystyle C_{0} + C_{1} \\left(e_{2}^{2} + e_{3}^{2}\\right) + C_{2} \\sin^{2}{\\left(\\frac{I_{2}}{2} \\right)} + C_{3} e_{2} e_{3} \\cos{\\left(\\varpi_{2} - \\varpi_{3} \\right)}$"
      ],
      "text/plain": [
       "        ⎛  2     2⎞         2⎛I₂⎞                                \n",
       "C₀ + C₁⋅⎝e₂  + e₃ ⎠ + C₂⋅sin ⎜──⎟ + C₃⋅e₂⋅e₃⋅cos(varpi₂ - varpi₃)\n",
       "                             ⎝2 ⎠                                "
      ]
     },
     "execution_count": 3,
     "metadata": {},
     "output_type": "execute_result"
    }
   ],
   "source": [
    "R_D = C0 + C1*(e2**2+e3**2) + C2*sin(I2/2)**2 + C3*e2*e3*cos(vpi3-vpi2)\n",
    "R_D"
   ]
  },
  {
   "cell_type": "code",
   "execution_count": 4,
   "metadata": {},
   "outputs": [],
   "source": [
    "R = mu3/a3*R_D"
   ]
  },
  {
   "cell_type": "code",
   "execution_count": 5,
   "metadata": {},
   "outputs": [
    {
     "data": {
      "image/png": "[encoded data removed]",
      "text/latex": [
       "$\\displaystyle \\frac{C_{3} e_{3} \\mu_{3} \\sin{\\left(\\varpi_{2} - \\varpi_{3} \\right)}}{a_{2}^{2} a_{3} n_{2}}$"
      ],
      "text/plain": [
       "C₃⋅e₃⋅μ₃⋅sin(varpi₂ - varpi₃)\n",
       "─────────────────────────────\n",
       "            2                \n",
       "          a₂ ⋅a₃⋅n₂          "
      ]
     },
     "execution_count": 5,
     "metadata": {},
     "output_type": "execute_result"
    }
   ],
   "source": [
    "de = diff(R,vpi2)/(-n2*a2**2*e2)\n",
    "de"
   ]
  },
  {
   "cell_type": "code",
   "execution_count": 6,
   "metadata": {},
   "outputs": [
    {
     "data": {
      "image/png": "[encoded data removed]",
      "text/latex": [
       "$\\displaystyle \\frac{\\mu_{3} \\left(2 C_{1} e_{2} + C_{3} e_{3} \\cos{\\left(\\varpi_{2} - \\varpi_{3} \\right)}\\right)}{a_{2}^{2} a_{3} e_{2} n_{2}}$"
      ],
      "text/plain": [
       "μ₃⋅(2⋅C₁⋅e₂ + C₃⋅e₃⋅cos(varpi₂ - varpi₃))\n",
       "─────────────────────────────────────────\n",
       "                 2                       \n",
       "               a₂ ⋅a₃⋅e₂⋅n₂              "
      ]
     },
     "execution_count": 6,
     "metadata": {},
     "output_type": "execute_result"
    }
   ],
   "source": [
    "dvpi = diff(R,e2)/n2/a2**2/e2\n",
    "simplify(dvpi)"
   ]
  },
  {
   "cell_type": "code",
   "execution_count": 7,
   "metadata": {},
   "outputs": [
    {
     "data": {
      "image/png": "[encoded data removed]",
      "text/latex": [
       "$\\displaystyle \\frac{C_{2} \\mu_{3}}{2 a_{2}^{2} a_{3} n_{2}}$"
      ],
      "text/plain": [
       "   C₂⋅μ₃   \n",
       "───────────\n",
       "    2      \n",
       "2⋅a₂ ⋅a₃⋅n₂"
      ]
     },
     "execution_count": 7,
     "metadata": {},
     "output_type": "execute_result"
    }
   ],
   "source": [
    "dO = simplify(diff(R,I2)/n2/a2**2/sin(I2))\n",
    "dO"
   ]
  },
  {
   "cell_type": "code",
   "execution_count": 8,
   "metadata": {},
   "outputs": [
    {
     "data": {
      "image/png": "[encoded data removed]",
      "text/latex": [
       "$\\displaystyle \\frac{C_{3} a_{2} e_{3} m_{3} n_{2} \\sin{\\left(\\varpi_{2} - \\varpi_{3} \\right)}}{a_{3} m_{1}}$"
      ],
      "text/plain": [
       "C₃⋅a₂⋅e₃⋅m₃⋅n₂⋅sin(varpi₂ - varpi₃)\n",
       "───────────────────────────────────\n",
       "               a₃⋅m₁               "
      ]
     },
     "execution_count": 8,
     "metadata": {},
     "output_type": "execute_result"
    }
   ],
   "source": [
    "de.subs(mu3,n2**2*a2**3*m3/m1)"
   ]
  },
  {
   "cell_type": "markdown",
   "metadata": {},
   "source": [
    "Resonant Terms"
   ]
  },
  {
   "cell_type": "code",
   "execution_count": 9,
   "metadata": {},
   "outputs": [
    {
     "data": {
      "image/png": "[encoded data removed]",
      "text/latex": [
       "$\\displaystyle C_{4} e_{2} \\cos{\\left(\\lambda_{2} - 2 \\lambda_{3} + \\varpi_{2} \\right)} + C_{5} e_{3} \\cos{\\left(\\lambda_{2} - 2 \\lambda_{3} + \\varpi_{3} \\right)}$"
      ],
      "text/plain": [
       "C₄⋅e₂⋅cos(λ₂ - 2⋅λ₃ + varpi₂) + C₅⋅e₃⋅cos(λ₂ - 2⋅λ₃ + varpi₃)"
      ]
     },
     "execution_count": 9,
     "metadata": {},
     "output_type": "execute_result"
    }
   ],
   "source": [
    "R_D_res = C4*e2*cos(2*l3 - l2 - vpi2) + C5*e3*cos(2*l3 - l2 - vpi3)\n",
    "R_D_res"
   ]
  },
  {
   "cell_type": "code",
   "execution_count": 10,
   "metadata": {},
   "outputs": [
    {
     "data": {
      "image/png": "[encoded data removed]",
      "text/latex": [
       "$\\displaystyle - 2 e_{3} \\cos{\\left(\\lambda_{2} - 2 \\lambda_{3} + \\varpi_{3} \\right)}$"
      ],
      "text/plain": [
       "-2⋅e₃⋅cos(λ₂ - 2⋅λ₃ + varpi₃)"
      ]
     },
     "execution_count": 10,
     "metadata": {},
     "output_type": "execute_result"
    }
   ],
   "source": [
    "R_E2 = -2*e3*cos(2*l3 - l2 - vpi3)\n",
    "R_E2"
   ]
  },
  {
   "cell_type": "code",
   "execution_count": 11,
   "metadata": {},
   "outputs": [
    {
     "data": {
      "image/png": "[encoded data removed]",
      "text/latex": [
       "$\\displaystyle \\frac{\\mu_{3} \\left(C_{4} e_{2} \\cos{\\left(\\lambda_{2} - 2 \\lambda_{3} + \\varpi_{2} \\right)} + e_{3} \\left(C_{5} - \\frac{2 a_{2}}{a_{3}}\\right) \\cos{\\left(\\lambda_{2} - 2 \\lambda_{3} + \\varpi_{3} \\right)}\\right)}{a_{3}}$"
      ],
      "text/plain": [
       "   ⎛                                   ⎛     2⋅a₂⎞                        ⎞\n",
       "μ₃⋅⎜C₄⋅e₂⋅cos(λ₂ - 2⋅λ₃ + varpi₂) + e₃⋅⎜C₅ - ────⎟⋅cos(λ₂ - 2⋅λ₃ + varpi₃)⎟\n",
       "   ⎝                                   ⎝      a₃ ⎠                        ⎠\n",
       "───────────────────────────────────────────────────────────────────────────\n",
       "                                     a₃                                    "
      ]
     },
     "execution_count": 11,
     "metadata": {},
     "output_type": "execute_result"
    }
   ],
   "source": [
    "R2 = mu3/a3*R_D_res.subs(C5,C5-2*a2/a3)\n",
    "R2"
   ]
  },
  {
   "cell_type": "code",
   "execution_count": 12,
   "metadata": {},
   "outputs": [
    {
     "data": {
      "image/png": "[encoded data removed]",
      "text/latex": [
       "$\\displaystyle - \\frac{2 \\mu_{3} \\left(C_{4} a_{3} e_{2} \\sin{\\left(\\lambda_{2} - 2 \\lambda_{3} + \\varpi_{2} \\right)} + e_{3} \\left(C_{5} a_{3} - 2 a_{2}\\right) \\sin{\\left(\\lambda_{2} - 2 \\lambda_{3} + \\varpi_{3} \\right)}\\right)}{a_{2} a_{3}^{2} n_{2}}$"
      ],
      "text/plain": [
       "-2⋅μ₃⋅(C₄⋅a₃⋅e₂⋅sin(λ₂ - 2⋅λ₃ + varpi₂) + e₃⋅(C₅⋅a₃ - 2⋅a₂)⋅sin(λ₂ - 2⋅λ₃ + varpi₃)) \n",
       "─────────────────────────────────────────────────────────────────────────────────────\n",
       "                                           2                                         \n",
       "                                      a₂⋅a₃ ⋅n₂                                      "
      ]
     },
     "execution_count": 12,
     "metadata": {},
     "output_type": "execute_result"
    }
   ],
   "source": [
    "da2 = diff(R2,l2)*2/n2/a2\n",
    "simplify(da2)"
   ]
  },
  {
   "cell_type": "code",
   "execution_count": 13,
   "metadata": {},
   "outputs": [
    {
     "data": {
      "image/png": "[encoded data removed]",
      "text/latex": [
       "$\\displaystyle \\frac{C_{4} \\mu_{3} \\sin{\\left(\\lambda_{2} - 2 \\lambda_{3} + \\varpi_{2} \\right)}}{a_{2}^{2} a_{3} n_{2}}$"
      ],
      "text/plain": [
       "C₄⋅μ₃⋅sin(λ₂ - 2⋅λ₃ + varpi₂)\n",
       "─────────────────────────────\n",
       "            2                \n",
       "          a₂ ⋅a₃⋅n₂          "
      ]
     },
     "execution_count": 13,
     "metadata": {},
     "output_type": "execute_result"
    }
   ],
   "source": [
    "de2 = diff(R2,vpi2)/(-n2*a2**2*e2)\n",
    "de2"
   ]
  },
  {
   "cell_type": "code",
   "execution_count": 14,
   "metadata": {},
   "outputs": [
    {
     "data": {
      "image/png": "[encoded data removed]",
      "text/latex": [
       "$\\displaystyle \\frac{C_{4} \\mu_{3} \\cos{\\left(\\lambda_{2} - 2 \\lambda_{3} + \\varpi_{2} \\right)}}{a_{2}^{2} a_{3} e_{2} n_{2}}$"
      ],
      "text/plain": [
       "C₄⋅μ₃⋅cos(λ₂ - 2⋅λ₃ + varpi₂)\n",
       "─────────────────────────────\n",
       "           2                 \n",
       "         a₂ ⋅a₃⋅e₂⋅n₂        "
      ]
     },
     "execution_count": 14,
     "metadata": {},
     "output_type": "execute_result"
    }
   ],
   "source": [
    "dvpi2 = diff(R2,e2)/n2/a2**2/e2\n",
    "dvpi2"
   ]
  },
  {
   "cell_type": "code",
   "execution_count": 15,
   "metadata": {},
   "outputs": [
    {
     "data": {
      "image/png": "[encoded data removed]",
      "text/latex": [
       "$\\displaystyle 0$"
      ],
      "text/plain": [
       "0"
      ]
     },
     "execution_count": 15,
     "metadata": {},
     "output_type": "execute_result"
    }
   ],
   "source": [
    "dO2 = simplify(diff(R2,I2)/n2/a2**2/sin(I2))\n",
    "dO2"
   ]
  },
  {
   "cell_type": "markdown",
   "metadata": {},
   "source": [
    "Calculating Laplace Coefficients"
   ]
  },
  {
   "cell_type": "code",
   "execution_count": 16,
   "metadata": {},
   "outputs": [],
   "source": [
    "lc = lambda s,j,x: 2*RisingFactorial(s,abs(j))*hyper([s,s+abs(j)],[abs(j)+1],x**2)*x**abs(j)/factorial(abs(j))"
   ]
  },
  {
   "cell_type": "code",
   "execution_count": 17,
   "metadata": {},
   "outputs": [],
   "source": [
    "Dlc = lambda s,j,x: s*(lc(s+1,j-1,x) - 2*x*lc(s+1,j,x) + lc(s+1,j+1,x))"
   ]
  },
  {
   "cell_type": "code",
   "execution_count": 18,
   "metadata": {},
   "outputs": [],
   "source": [
    "D2lc = lambda s,j,x: s*(Dlc(s+1,j-1,x) - 2*x*Dlc(s+1,j,x) + Dlc(s+1,j+1,x) - 2*lc(s+1,j,x))"
   ]
  },
  {
   "cell_type": "code",
   "execution_count": 19,
   "metadata": {},
   "outputs": [
    {
     "data": {
      "text/latex": [
       "$\\displaystyle \\frac{2 x^{\\left|{j}\\right|} {s}^{\\left(\\left|{j}\\right|\\right)} {{}_{2}F_{1}\\left(\\begin{matrix} s, s + \\left|{j}\\right| \\\\ \\left|{j}\\right| + 1 \\end{matrix}\\middle| {x^{2}} \\right)}}{\\left(\\left|{j}\\right|\\right)!}$"
      ],
      "text/plain": [
       "   │j│                          ┌─  ⎛s, s + │j│ │  2⎞\n",
       "2⋅x   ⋅RisingFactorial(s, │j│)⋅ ├─  ⎜           │ x ⎟\n",
       "                               2╵ 1 ⎝ │j│ + 1   │   ⎠\n",
       "─────────────────────────────────────────────────────\n",
       "                        (│j│)!                       "
      ]
     },
     "execution_count": 19,
     "metadata": {},
     "output_type": "execute_result"
    }
   ],
   "source": [
    "lc(s,j,x)"
   ]
  },
  {
   "cell_type": "code",
   "execution_count": 20,
   "metadata": {},
   "outputs": [
    {
     "data": {
      "text/latex": [
       "$\\displaystyle s \\left(- \\frac{4 x x^{\\left|{j}\\right|} {\\left(s + 1\\right)}^{\\left(\\left|{j}\\right|\\right)} {{}_{2}F_{1}\\left(\\begin{matrix} s + 1, s + \\left|{j}\\right| + 1 \\\\ \\left|{j}\\right| + 1 \\end{matrix}\\middle| {x^{2}} \\right)}}{\\left(\\left|{j}\\right|\\right)!} + \\frac{2 x^{\\left|{j - 1}\\right|} {\\left(s + 1\\right)}^{\\left(\\left|{j - 1}\\right|\\right)} {{}_{2}F_{1}\\left(\\begin{matrix} s + 1, s + \\left|{j - 1}\\right| + 1 \\\\ \\left|{j - 1}\\right| + 1 \\end{matrix}\\middle| {x^{2}} \\right)}}{\\left(\\left|{j - 1}\\right|\\right)!} + \\frac{2 x^{\\left|{j + 1}\\right|} {\\left(s + 1\\right)}^{\\left(\\left|{j + 1}\\right|\\right)} {{}_{2}F_{1}\\left(\\begin{matrix} s + 1, s + \\left|{j + 1}\\right| + 1 \\\\ \\left|{j + 1}\\right| + 1 \\end{matrix}\\middle| {x^{2}} \\right)}}{\\left(\\left|{j + 1}\\right|\\right)!}\\right)$"
      ],
      "text/plain": [
       "  ⎛       │j│                              ┌─  ⎛s + 1, s + │j│ + 1 │  2⎞      │j - 1│                                  ┌─  ⎛s + \n",
       "  ⎜  4⋅x⋅x   ⋅RisingFactorial(s + 1, │j│)⋅ ├─  ⎜                   │ x ⎟   2⋅x       ⋅RisingFactorial(s + 1, │j - 1│)⋅ ├─  ⎜    \n",
       "  ⎜                                       2╵ 1 ⎝     │j│ + 1       │   ⎠                                              2╵ 1 ⎝    \n",
       "s⋅⎜- ─────────────────────────────────────────────────────────────────── + ─────────────────────────────────────────────────────\n",
       "  ⎝                                 (│j│)!                                                                   (│j - 1│)!         \n",
       "\n",
       "1, s + │j - 1│ + 1 │  2⎞      │j + 1│                                  ┌─  ⎛s + 1, s + │j + 1│ + 1 │  2⎞⎞\n",
       "                   │ x ⎟   2⋅x       ⋅RisingFactorial(s + 1, │j + 1│)⋅ ├─  ⎜                       │ x ⎟⎟\n",
       " │j - 1│ + 1       │   ⎠                                              2╵ 1 ⎝     │j + 1│ + 1       │   ⎠⎟\n",
       "──────────────────────── + ─────────────────────────────────────────────────────────────────────────────⎟\n",
       "                                                             (│j + 1│)!                                 ⎠"
      ]
     },
     "execution_count": 20,
     "metadata": {},
     "output_type": "execute_result"
    }
   ],
   "source": [
    "Dlc(s,j,x)"
   ]
  },
  {
   "cell_type": "code",
   "execution_count": 21,
   "metadata": {},
   "outputs": [
    {
     "data": {
      "text/latex": [
       "$\\displaystyle s \\left(- 2 x \\left(s + 1\\right) \\left(- \\frac{4 x x^{\\left|{j}\\right|} {\\left(s + 2\\right)}^{\\left(\\left|{j}\\right|\\right)} {{}_{2}F_{1}\\left(\\begin{matrix} s + 2, s + \\left|{j}\\right| + 2 \\\\ \\left|{j}\\right| + 1 \\end{matrix}\\middle| {x^{2}} \\right)}}{\\left(\\left|{j}\\right|\\right)!} + \\frac{2 x^{\\left|{j - 1}\\right|} {\\left(s + 2\\right)}^{\\left(\\left|{j - 1}\\right|\\right)} {{}_{2}F_{1}\\left(\\begin{matrix} s + 2, s + \\left|{j - 1}\\right| + 2 \\\\ \\left|{j - 1}\\right| + 1 \\end{matrix}\\middle| {x^{2}} \\right)}}{\\left(\\left|{j - 1}\\right|\\right)!} + \\frac{2 x^{\\left|{j + 1}\\right|} {\\left(s + 2\\right)}^{\\left(\\left|{j + 1}\\right|\\right)} {{}_{2}F_{1}\\left(\\begin{matrix} s + 2, s + \\left|{j + 1}\\right| + 2 \\\\ \\left|{j + 1}\\right| + 1 \\end{matrix}\\middle| {x^{2}} \\right)}}{\\left(\\left|{j + 1}\\right|\\right)!}\\right) - \\frac{4 x^{\\left|{j}\\right|} {\\left(s + 1\\right)}^{\\left(\\left|{j}\\right|\\right)} {{}_{2}F_{1}\\left(\\begin{matrix} s + 1, s + \\left|{j}\\right| + 1 \\\\ \\left|{j}\\right| + 1 \\end{matrix}\\middle| {x^{2}} \\right)}}{\\left(\\left|{j}\\right|\\right)!} + \\left(s + 1\\right) \\left(- \\frac{4 x x^{\\left|{j - 1}\\right|} {\\left(s + 2\\right)}^{\\left(\\left|{j - 1}\\right|\\right)} {{}_{2}F_{1}\\left(\\begin{matrix} s + 2, s + \\left|{j - 1}\\right| + 2 \\\\ \\left|{j - 1}\\right| + 1 \\end{matrix}\\middle| {x^{2}} \\right)}}{\\left(\\left|{j - 1}\\right|\\right)!} + \\frac{2 x^{\\left|{j}\\right|} {\\left(s + 2\\right)}^{\\left(\\left|{j}\\right|\\right)} {{}_{2}F_{1}\\left(\\begin{matrix} s + 2, s + \\left|{j}\\right| + 2 \\\\ \\left|{j}\\right| + 1 \\end{matrix}\\middle| {x^{2}} \\right)}}{\\left(\\left|{j}\\right|\\right)!} + \\frac{2 x^{\\left|{j - 2}\\right|} {\\left(s + 2\\right)}^{\\left(\\left|{j - 2}\\right|\\right)} {{}_{2}F_{1}\\left(\\begin{matrix} s + 2, s + \\left|{j - 2}\\right| + 2 \\\\ \\left|{j - 2}\\right| + 1 \\end{matrix}\\middle| {x^{2}} \\right)}}{\\left(\\left|{j - 2}\\right|\\right)!}\\right) + \\left(s + 1\\right) \\left(- \\frac{4 x x^{\\left|{j + 1}\\right|} {\\left(s + 2\\right)}^{\\left(\\left|{j + 1}\\right|\\right)} {{}_{2}F_{1}\\left(\\begin{matrix} s + 2, s + \\left|{j + 1}\\right| + 2 \\\\ \\left|{j + 1}\\right| + 1 \\end{matrix}\\middle| {x^{2}} \\right)}}{\\left(\\left|{j + 1}\\right|\\right)!} + \\frac{2 x^{\\left|{j}\\right|} {\\left(s + 2\\right)}^{\\left(\\left|{j}\\right|\\right)} {{}_{2}F_{1}\\left(\\begin{matrix} s + 2, s + \\left|{j}\\right| + 2 \\\\ \\left|{j}\\right| + 1 \\end{matrix}\\middle| {x^{2}} \\right)}}{\\left(\\left|{j}\\right|\\right)!} + \\frac{2 x^{\\left|{j + 2}\\right|} {\\left(s + 2\\right)}^{\\left(\\left|{j + 2}\\right|\\right)} {{}_{2}F_{1}\\left(\\begin{matrix} s + 2, s + \\left|{j + 2}\\right| + 2 \\\\ \\left|{j + 2}\\right| + 1 \\end{matrix}\\middle| {x^{2}} \\right)}}{\\left(\\left|{j + 2}\\right|\\right)!}\\right)\\right)$"
      ],
      "text/plain": [
       "  ⎛              ⎛       │j│                              ┌─  ⎛s + 2, s + │j│ + 2 │  2⎞      │j - 1│                            \n",
       "  ⎜              ⎜  4⋅x⋅x   ⋅RisingFactorial(s + 2, │j│)⋅ ├─  ⎜                   │ x ⎟   2⋅x       ⋅RisingFactorial(s + 2, │j -\n",
       "  ⎜              ⎜                                       2╵ 1 ⎝     │j│ + 1       │   ⎠                                         \n",
       "s⋅⎜- 2⋅x⋅(s + 1)⋅⎜- ─────────────────────────────────────────────────────────────────── + ──────────────────────────────────────\n",
       "  ⎝              ⎝                                 (│j│)!                                                                   (│j \n",
       "\n",
       "      ┌─  ⎛s + 2, s + │j - 1│ + 2 │  2⎞      │j + 1│                                  ┌─  ⎛s + 2, s + │j + 1│ + 2 │  2⎞⎞      │j\n",
       " 1│)⋅ ├─  ⎜                       │ x ⎟   2⋅x       ⋅RisingFactorial(s + 2, │j + 1│)⋅ ├─  ⎜                       │ x ⎟⎟   4⋅x  \n",
       "     2╵ 1 ⎝     │j - 1│ + 1       │   ⎠                                              2╵ 1 ⎝     │j + 1│ + 1       │   ⎠⎟        \n",
       "─────────────────────────────────────── + ─────────────────────────────────────────────────────────────────────────────⎟ - ─────\n",
       "- 1│)!                                                                      (│j + 1│)!                                 ⎠        \n",
       "\n",
       "│                              ┌─  ⎛s + 1, s + │j│ + 1 │  2⎞           ⎛       │j - 1│                                  ┌─  ⎛s +\n",
       " ⋅RisingFactorial(s + 1, │j│)⋅ ├─  ⎜                   │ x ⎟           ⎜  4⋅x⋅x       ⋅RisingFactorial(s + 2, │j - 1│)⋅ ├─  ⎜   \n",
       "                              2╵ 1 ⎝     │j│ + 1       │   ⎠           ⎜                                               2╵ 1 ⎝   \n",
       "──────────────────────────────────────────────────────────── + (s + 1)⋅⎜- ──────────────────────────────────────────────────────\n",
       "                         (│j│)!                                        ⎝                                     (│j - 1│)!         \n",
       "\n",
       " 2, s + │j - 1│ + 2 │  2⎞      │j│                              ┌─  ⎛s + 2, s + │j│ + 2 │  2⎞      │j - 2│                      \n",
       "                    │ x ⎟   2⋅x   ⋅RisingFactorial(s + 2, │j│)⋅ ├─  ⎜                   │ x ⎟   2⋅x       ⋅RisingFactorial(s + 2\n",
       "  │j - 1│ + 1       │   ⎠                                      2╵ 1 ⎝     │j│ + 1       │   ⎠                                   \n",
       "───────────────────────── + ───────────────────────────────────────────────────────────────── + ────────────────────────────────\n",
       "                                                          (│j│)!                                                                \n",
       "\n",
       "            ┌─  ⎛s + 2, s + │j - 2│ + 2 │  2⎞⎞           ⎛       │j + 1│                                  ┌─  ⎛s + 2, s + │j + 1\n",
       ", │j - 2│)⋅ ├─  ⎜                       │ x ⎟⎟           ⎜  4⋅x⋅x       ⋅RisingFactorial(s + 2, │j + 1│)⋅ ├─  ⎜                 \n",
       "           2╵ 1 ⎝     │j - 2│ + 1       │   ⎠⎟           ⎜                                               2╵ 1 ⎝     │j + 1│ + 1 \n",
       "─────────────────────────────────────────────⎟ + (s + 1)⋅⎜- ────────────────────────────────────────────────────────────────────\n",
       "  (│j - 2│)!                                 ⎠           ⎝                                     (│j + 1│)!                       \n",
       "\n",
       "│ + 2 │  2⎞      │j│                              ┌─  ⎛s + 2, s + │j│ + 2 │  2⎞      │j + 2│                                  ┌─\n",
       "      │ x ⎟   2⋅x   ⋅RisingFactorial(s + 2, │j│)⋅ ├─  ⎜                   │ x ⎟   2⋅x       ⋅RisingFactorial(s + 2, │j + 2│)⋅ ├─\n",
       "      │   ⎠                                      2╵ 1 ⎝     │j│ + 1       │   ⎠                                              2╵ \n",
       "─────────── + ───────────────────────────────────────────────────────────────── + ──────────────────────────────────────────────\n",
       "                                            (│j│)!                                                                  (│j + 2│)!  \n",
       "\n",
       "  ⎛s + 2, s + │j + 2│ + 2 │  2⎞⎞⎞\n",
       "  ⎜                       │ x ⎟⎟⎟\n",
       "1 ⎝     │j + 2│ + 1       │   ⎠⎟⎟\n",
       "───────────────────────────────⎟⎟\n",
       "                               ⎠⎠"
      ]
     },
     "execution_count": 21,
     "metadata": {},
     "output_type": "execute_result"
    }
   ],
   "source": [
    "D2lc(s,j,x)"
   ]
  },
  {
   "cell_type": "markdown",
   "metadata": {},
   "source": [
    "Example: Murray & Dermott (1999), pg. 255: $a' = 1$, $e' = 0.048$, $\\varpi ' = 0$, $I' = 0$, and $m'/m_c = 1/1047.355$ with starting conditions $a_0 = 0.192$, $e_0 = 0.1$, $\\varpi_0 = 130^\\circ$, $\\Omega_0 = 200^\\circ$, $\\lambda_0 = 300^\\circ$, and $\\lambda' = 0^\\circ$. Substitution of $\\alpha = a/a' = 0.192$ in Eqs. (6.166)–(6.168) gives $C_1 = 0.0148335$, $C_2 = -0.0593339$, and $C_3 = -0.00708688$; note that $2C_1 = -C_2/2$."
   ]
  },
  {
   "cell_type": "code",
   "execution_count": 22,
   "metadata": {},
   "outputs": [
    {
     "data": {
      "image/png": "[encoded data removed]",
      "text/latex": [
       "$\\displaystyle 1.00941213754557$"
      ],
      "text/plain": [
       "1.00941213754557"
      ]
     },
     "execution_count": 22,
     "metadata": {},
     "output_type": "execute_result"
    }
   ],
   "source": [
    "C0 = lambda x: 0.5*lc(0.5,0,x).evalf()\n",
    "C0(0.192)"
   ]
  },
  {
   "cell_type": "code",
   "execution_count": 23,
   "metadata": {},
   "outputs": [
    {
     "data": {
      "image/png": "[encoded data removed]",
      "text/latex": [
       "$\\displaystyle 0.0148334873583162$"
      ],
      "text/plain": [
       "0.0148334873583162"
      ]
     },
     "execution_count": 23,
     "metadata": {},
     "output_type": "execute_result"
    }
   ],
   "source": [
    "C1 = lambda x: (2*x*Dlc(0.5,0,x).evalf() + x**2*D2lc(0.5,0,x).evalf())/8.0\n",
    "C1(0.192)"
   ]
  },
  {
   "cell_type": "code",
   "execution_count": 24,
   "metadata": {},
   "outputs": [
    {
     "data": {
      "image/png": "[encoded data removed]",
      "text/latex": [
       "$\\displaystyle -0.0593339494332647$"
      ],
      "text/plain": [
       "-0.0593339494332647"
      ]
     },
     "execution_count": 24,
     "metadata": {},
     "output_type": "execute_result"
    }
   ],
   "source": [
    "C2 = lambda alpha: lc(1.5,1,alpha).evalf()*-0.5*alpha\n",
    "C2(0.192)"
   ]
  },
  {
   "cell_type": "code",
   "execution_count": 25,
   "metadata": {},
   "outputs": [
    {
     "data": {
      "image/png": "[encoded data removed]",
      "text/latex": [
       "$\\displaystyle -0.00708688099496398$"
      ],
      "text/plain": [
       "-0.00708688099496398"
      ]
     },
     "execution_count": 25,
     "metadata": {},
     "output_type": "execute_result"
    }
   ],
   "source": [
    "C3 = lambda alpha: (2*lc(0.5,1,alpha).evalf() - 2*alpha*Dlc(0.5,1,alpha).evalf() - \\\n",
    "      alpha**2*D2lc(0.5,1,alpha).evalf())/4.\n",
    "C3(0.192)"
   ]
  },
  {
   "cell_type": "code",
   "execution_count": 26,
   "metadata": {},
   "outputs": [
    {
     "data": {
      "image/png": "[encoded data removed]",
      "text/latex": [
       "$\\displaystyle 3.46944695195361 \\cdot 10^{-18}$"
      ],
      "text/plain": [
       "3.46944695195361e-18"
      ]
     },
     "execution_count": 26,
     "metadata": {},
     "output_type": "execute_result"
    }
   ],
   "source": [
    "2*C1(0.192) + C2(0.192)/2"
   ]
  },
  {
   "cell_type": "code",
   "execution_count": null,
   "metadata": {},
   "outputs": [],
   "source": []
  }
 ],
 "metadata": {
  "kernelspec": {
   "display_name": "Python 3 (ipykernel)",
   "language": "python",
   "name": "python3"
  },
  "language_info": {
   "codemirror_mode": {
    "name": "ipython",
    "version": 3
   },
   "file_extension": ".py",
   "mimetype": "text/x-python",
   "name": "python",
   "nbconvert_exporter": "python",
   "pygments_lexer": "ipython3",
   "version": "3.11.5"
  }
 },
 "nbformat": 4,
 "nbformat_minor": 4
}
